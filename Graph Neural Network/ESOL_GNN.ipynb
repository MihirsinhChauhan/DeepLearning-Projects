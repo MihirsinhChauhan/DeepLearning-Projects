{
 "cells": [
  {
   "cell_type": "markdown",
   "id": "f955b55b",
   "metadata": {},
   "source": [
    "## Installation"
   ]
  },
  {
   "cell_type": "code",
   "execution_count": null,
   "id": "ffe1a20a",
   "metadata": {},
   "outputs": [],
   "source": [
    "!python -c \"import torch; print(torch.__version__)\"\n",
    "!python -c \"import torch; print(torch.version.cuda)\"\n",
    "!python --version\n",
    "!nvidia-smi"
   ]
  },
  {
   "cell_type": "code",
   "execution_count": null,
   "id": "69ed914f",
   "metadata": {},
   "outputs": [],
   "source": [
    "# If something breaks in the notebook it is probably related to a mismatch between the Python version, CUDA or torch\n",
    "import torch\n",
    "pytorch_version = f\"torch-{torch.__version__}.html\"\n",
    "!pip install --no-index torch-scatter -f https://pytorch-geometric.com/whl/$pytorch_version\n",
    "!pip install --no-index torch-sparse -f https://pytorch-geometric.com/whl/$pytorch_version\n",
    "!pip install --no-index torch-cluster -f https://pytorch-geometric.com/whl/$pytorch_version\n",
    "!pip install --no-index torch-spline-conv -f https://pytorch-geometric.com/whl/$pytorch_version\n",
    "!pip install torch-geometric"
   ]
  },
  {
   "cell_type": "code",
   "execution_count": null,
   "id": "daba065e",
   "metadata": {},
   "outputs": [],
   "source": [
    "!pip install rdkit"
   ]
  },
  {
   "cell_type": "code",
   "execution_count": null,
   "id": "b02e713e",
   "metadata": {},
   "outputs": [],
   "source": []
  },
  {
   "cell_type": "markdown",
   "id": "b7d689d8",
   "metadata": {},
   "source": [
    "## Dataset"
   ]
  },
  {
   "cell_type": "code",
   "execution_count": 1,
   "id": "f4a5b40a",
   "metadata": {},
   "outputs": [
    {
     "data": {
      "text/plain": [
       "ESOL(1128)"
      ]
     },
     "execution_count": 1,
     "metadata": {},
     "output_type": "execute_result"
    }
   ],
   "source": [
    "import rdkit\n",
    "from torch_geometric.datasets import MoleculeNet\n",
    " \n",
    "# Load the ESOL dataset\n",
    "data = MoleculeNet(root=\"../../Data\", name=\"ESOL\")\n",
    "data"
   ]
  },
  {
   "cell_type": "code",
   "execution_count": 2,
   "id": "2ae3a001",
   "metadata": {},
   "outputs": [
    {
     "name": "stdout",
     "output_type": "stream",
     "text": [
      "Dataset type:  <class 'torch_geometric.datasets.molecule_net.MoleculeNet'>\n",
      "Dataset features:  9\n",
      "Dataset target:  734\n",
      "Dataset length:  <bound method InMemoryDataset.len of ESOL(1128)>\n",
      "Dataset sample:  Data(x=[32, 9], edge_index=[2, 68], edge_attr=[68, 3], smiles='OCC3OC(OCC2OC(OC(C#N)c1ccccc1)C(O)C(O)C2O)C(O)C(O)C3O ', y=[1, 1])\n",
      "Sample  nodes:  32\n",
      "Sample  edges:  68\n"
     ]
    },
    {
     "name": "stderr",
     "output_type": "stream",
     "text": [
      "c:\\Users\\Mihir Chauhan\\AppData\\Local\\Programs\\Python\\Python311\\Lib\\site-packages\\torch_geometric\\data\\dataset.py:172: UserWarning: Found floating-point labels while calling `dataset.num_classes`. Returning the number of unique elements. Please make sure that this is expected before proceeding.\n",
      "  warnings.warn(\"Found floating-point labels while calling \"\n"
     ]
    }
   ],
   "source": [
    "# Investigating the dataset\n",
    "print(\"Dataset type: \", type(data))\n",
    "print(\"Dataset features: \", data.num_features)\n",
    "print(\"Dataset target: \", data.num_classes)\n",
    "print(\"Dataset length: \", data.len)\n",
    "print(\"Dataset sample: \", data[0])\n",
    "print(\"Sample  nodes: \", data[0].num_nodes)\n",
    "print(\"Sample  edges: \", data[0].num_edges)"
   ]
  },
  {
   "cell_type": "code",
   "execution_count": 3,
   "id": "cd2173c2",
   "metadata": {},
   "outputs": [
    {
     "data": {
      "text/plain": [
       "tensor([[8, 0, 2, 5, 1, 0, 4, 0, 0],\n",
       "        [6, 0, 4, 5, 2, 0, 4, 0, 0],\n",
       "        [6, 0, 4, 5, 1, 0, 4, 0, 1],\n",
       "        [8, 0, 2, 5, 0, 0, 4, 0, 1],\n",
       "        [6, 0, 4, 5, 1, 0, 4, 0, 1],\n",
       "        [8, 0, 2, 5, 0, 0, 4, 0, 0],\n",
       "        [6, 0, 4, 5, 2, 0, 4, 0, 0],\n",
       "        [6, 0, 4, 5, 1, 0, 4, 0, 1],\n",
       "        [8, 0, 2, 5, 0, 0, 4, 0, 1],\n",
       "        [6, 0, 4, 5, 1, 0, 4, 0, 1],\n",
       "        [8, 0, 2, 5, 0, 0, 4, 0, 0],\n",
       "        [6, 0, 4, 5, 1, 0, 4, 0, 0],\n",
       "        [6, 0, 2, 5, 0, 0, 2, 0, 0],\n",
       "        [7, 0, 1, 5, 0, 0, 2, 0, 0],\n",
       "        [6, 0, 3, 5, 0, 0, 3, 1, 1],\n",
       "        [6, 0, 3, 5, 1, 0, 3, 1, 1],\n",
       "        [6, 0, 3, 5, 1, 0, 3, 1, 1],\n",
       "        [6, 0, 3, 5, 1, 0, 3, 1, 1],\n",
       "        [6, 0, 3, 5, 1, 0, 3, 1, 1],\n",
       "        [6, 0, 3, 5, 1, 0, 3, 1, 1],\n",
       "        [6, 0, 4, 5, 1, 0, 4, 0, 1],\n",
       "        [8, 0, 2, 5, 1, 0, 4, 0, 0],\n",
       "        [6, 0, 4, 5, 1, 0, 4, 0, 1],\n",
       "        [8, 0, 2, 5, 1, 0, 4, 0, 0],\n",
       "        [6, 0, 4, 5, 1, 0, 4, 0, 1],\n",
       "        [8, 0, 2, 5, 1, 0, 4, 0, 0],\n",
       "        [6, 0, 4, 5, 1, 0, 4, 0, 1],\n",
       "        [8, 0, 2, 5, 1, 0, 4, 0, 0],\n",
       "        [6, 0, 4, 5, 1, 0, 4, 0, 1],\n",
       "        [8, 0, 2, 5, 1, 0, 4, 0, 0],\n",
       "        [6, 0, 4, 5, 1, 0, 4, 0, 1],\n",
       "        [8, 0, 2, 5, 1, 0, 4, 0, 0]])"
      ]
     },
     "execution_count": 3,
     "metadata": {},
     "output_type": "execute_result"
    }
   ],
   "source": [
    "# Investigating the features\n",
    "# Shape: [num_nodes, num_node_features]\n",
    "data[0].x"
   ]
  },
  {
   "cell_type": "code",
   "execution_count": 4,
   "id": "385099ef",
   "metadata": {},
   "outputs": [
    {
     "data": {
      "text/plain": [
       "tensor([[ 0,  1],\n",
       "        [ 1,  0],\n",
       "        [ 1,  2],\n",
       "        [ 2,  1],\n",
       "        [ 2,  3],\n",
       "        [ 2, 30],\n",
       "        [ 3,  2],\n",
       "        [ 3,  4],\n",
       "        [ 4,  3],\n",
       "        [ 4,  5],\n",
       "        [ 4, 26],\n",
       "        [ 5,  4],\n",
       "        [ 5,  6],\n",
       "        [ 6,  5],\n",
       "        [ 6,  7],\n",
       "        [ 7,  6],\n",
       "        [ 7,  8],\n",
       "        [ 7, 24],\n",
       "        [ 8,  7],\n",
       "        [ 8,  9],\n",
       "        [ 9,  8],\n",
       "        [ 9, 10],\n",
       "        [ 9, 20],\n",
       "        [10,  9],\n",
       "        [10, 11],\n",
       "        [11, 10],\n",
       "        [11, 12],\n",
       "        [11, 14],\n",
       "        [12, 11],\n",
       "        [12, 13],\n",
       "        [13, 12],\n",
       "        [14, 11],\n",
       "        [14, 15],\n",
       "        [14, 19],\n",
       "        [15, 14],\n",
       "        [15, 16],\n",
       "        [16, 15],\n",
       "        [16, 17],\n",
       "        [17, 16],\n",
       "        [17, 18],\n",
       "        [18, 17],\n",
       "        [18, 19],\n",
       "        [19, 14],\n",
       "        [19, 18],\n",
       "        [20,  9],\n",
       "        [20, 21],\n",
       "        [20, 22],\n",
       "        [21, 20],\n",
       "        [22, 20],\n",
       "        [22, 23],\n",
       "        [22, 24],\n",
       "        [23, 22],\n",
       "        [24,  7],\n",
       "        [24, 22],\n",
       "        [24, 25],\n",
       "        [25, 24],\n",
       "        [26,  4],\n",
       "        [26, 27],\n",
       "        [26, 28],\n",
       "        [27, 26],\n",
       "        [28, 26],\n",
       "        [28, 29],\n",
       "        [28, 30],\n",
       "        [29, 28],\n",
       "        [30,  2],\n",
       "        [30, 28],\n",
       "        [30, 31],\n",
       "        [31, 30]])"
      ]
     },
     "execution_count": 4,
     "metadata": {},
     "output_type": "execute_result"
    }
   ],
   "source": [
    "data[0].edge_index.t()"
   ]
  },
  {
   "cell_type": "code",
   "execution_count": 5,
   "id": "e78e05e0",
   "metadata": {},
   "outputs": [
    {
     "data": {
      "text/plain": [
       "tensor([[-0.7700]])"
      ]
     },
     "execution_count": 5,
     "metadata": {},
     "output_type": "execute_result"
    }
   ],
   "source": [
    "data[0].y"
   ]
  },
  {
   "cell_type": "code",
   "execution_count": 6,
   "id": "40bbcb10",
   "metadata": {},
   "outputs": [
    {
     "data": {
      "text/plain": [
       "'OCC3OC(OCC2OC(OC(C#N)c1ccccc1)C(O)C(O)C2O)C(O)C(O)C3O '"
      ]
     },
     "execution_count": 6,
     "metadata": {},
     "output_type": "execute_result"
    }
   ],
   "source": [
    "data[0]['smiles']"
   ]
  },
  {
   "cell_type": "code",
   "execution_count": 7,
   "id": "9412c3fc",
   "metadata": {},
   "outputs": [
    {
     "data": {
      "image/png": "[encoded data removed]",
      "text/plain": [
       "<rdkit.Chem.rdchem.Mol at 0x2504ae00e40>"
      ]
     },
     "execution_count": 7,
     "metadata": {},
     "output_type": "execute_result"
    }
   ],
   "source": [
    "from rdkit import Chem\n",
    "from rdkit.Chem.Draw import IPythonConsole\n",
    "molecule = Chem.MolFromSmiles(data[0]['smiles'])\n",
    "molecule"
   ]
  },
  {
   "cell_type": "code",
   "execution_count": 8,
   "id": "adc0e199",
   "metadata": {},
   "outputs": [
    {
     "data": {
      "text/plain": [
       "rdkit.Chem.rdchem.Mol"
      ]
     },
     "execution_count": 8,
     "metadata": {},
     "output_type": "execute_result"
    }
   ],
   "source": [
    "type(molecule)"
   ]
  },
  {
   "cell_type": "markdown",
   "id": "e93cf56f",
   "metadata": {},
   "source": [
    "## Implementing GNN"
   ]
  },
  {
   "cell_type": "code",
   "execution_count": 9,
   "id": "0b775083",
   "metadata": {},
   "outputs": [
    {
     "name": "stdout",
     "output_type": "stream",
     "text": [
      "GCN(\n",
      "  (initial_conv): GCNConv(9, 64)\n",
      "  (conv1): GCNConv(64, 64)\n",
      "  (conv2): GCNConv(64, 64)\n",
      "  (conv3): GCNConv(64, 64)\n",
      "  (out): Linear(in_features=128, out_features=1, bias=True)\n",
      ")\n",
      "Number of parameters:  13249\n"
     ]
    }
   ],
   "source": [
    "import torch\n",
    "from torch.nn import Linear\n",
    "import torch.nn.functional as F\n",
    "from torch_geometric.nn import GCNConv, TopKPooling\n",
    "from torch_geometric.nn import global_mean_pool as gap,global_max_pool as gmp\n",
    "embedding_size = 64\n",
    "\n",
    "class GCN(torch.nn.Module):\n",
    "    def __init__(self):\n",
    "        super(GCN, self).__init__()\n",
    "        torch.manual_seed(42)\n",
    "\n",
    "        #GCN layers\n",
    "        self.initial_conv = GCNConv(data.num_features, embedding_size)\n",
    "        self.conv1 = GCNConv(embedding_size, embedding_size)\n",
    "        self.conv2 = GCNConv(embedding_size, embedding_size)\n",
    "        self.conv3 = GCNConv(embedding_size, embedding_size)\n",
    "\n",
    "        # Output layer\n",
    "        self.out = Linear(embedding_size*2, 1)\n",
    "\n",
    "    def forward(self, x, edge_index, batch_index):\n",
    "        # First conv layer\n",
    "        hidden = self.initial_conv(x, edge_index)\n",
    "        hidden = F.tanh(hidden)\n",
    "\n",
    "        # Other conv layers\n",
    "        hidden = self.conv1(hidden, edge_index)\n",
    "        hidden = F.tanh(hidden)\n",
    "        hidden = self.conv2(hidden, edge_index)\n",
    "        hidden = F.tanh(hidden)\n",
    "        hidden = self.conv3(hidden, edge_index)\n",
    "        hidden = F.tanh(hidden)\n",
    "\n",
    "        # Global Pooling (stack different aggregations)\n",
    "        hidden = torch.cat([gmp(hidden, batch_index),\n",
    "                            gap(hidden, batch_index)], dim=1)\n",
    "        \n",
    "        # Apply a final (linear) classifier.\n",
    "        out = self.out(hidden)\n",
    "\n",
    "        return out, hidden\n",
    "    \n",
    "model = GCN()\n",
    "print(model)\n",
    "print(\"Number of parameters: \", sum(p.numel() for p in model.parameters()))"
   ]
  },
  {
   "cell_type": "markdown",
   "id": "06a89c5f",
   "metadata": {},
   "source": [
    "## Training the GNN"
   ]
  },
  {
   "cell_type": "code",
   "execution_count": 10,
   "id": "a4f6fabf",
   "metadata": {},
   "outputs": [
    {
     "name": "stdout",
     "output_type": "stream",
     "text": [
      "Starting Trainig...\n",
      "Epoch 0 | Train Loss 14.210708618164062\n",
      "Epoch 100 | Train Loss 2.832592487335205\n",
      "Epoch 200 | Train Loss 3.5274643898010254\n",
      "Epoch 300 | Train Loss 2.523850202560425\n",
      "Epoch 400 | Train Loss 2.4589085578918457\n",
      "Epoch 500 | Train Loss 1.626326560974121\n",
      "Epoch 600 | Train Loss 0.918324887752533\n",
      "Epoch 700 | Train Loss 1.3429135084152222\n",
      "Epoch 800 | Train Loss 1.2493152618408203\n",
      "Epoch 900 | Train Loss 1.0273804664611816\n",
      "Epoch 1000 | Train Loss 0.7742300033569336\n",
      "Epoch 1100 | Train Loss 1.4467761516571045\n",
      "Epoch 1200 | Train Loss 1.2639589309692383\n",
      "Epoch 1300 | Train Loss 1.2311421632766724\n",
      "Epoch 1400 | Train Loss 0.9662402868270874\n",
      "Epoch 1500 | Train Loss 0.9443944692611694\n",
      "Epoch 1600 | Train Loss 0.7699755430221558\n",
      "Epoch 1700 | Train Loss 0.6832008957862854\n",
      "Epoch 1800 | Train Loss 0.5326371192932129\n",
      "Epoch 1900 | Train Loss 0.7551133632659912\n"
     ]
    }
   ],
   "source": [
    "from torch_geometric.data import DataLoader\n",
    "import warnings\n",
    "warnings.filterwarnings('ignore')\n",
    "\n",
    "# root mean squared error\n",
    "loss_fn = torch.nn.MSELoss()\n",
    "optimizer = torch.optim.Adam(model.parameters(), lr=0.01)\n",
    "\n",
    "# use GPU for training\n",
    "device = torch.device(\"cuda:0\" if torch.cuda.is_available() else \"cpu\")\n",
    "model = model.to(device)\n",
    "\n",
    "# Wrap the data in a DataLoader\n",
    "data_size = len(data)\n",
    "NUM_GRAPH_PER_BATCH = 64\n",
    "loader = DataLoader(data[:int(data_size*0.8)], batch_size=NUM_GRAPH_PER_BATCH, shuffle=True)\n",
    "test_loader = DataLoader(data[int(data_size*0.8):], batch_size=NUM_GRAPH_PER_BATCH, shuffle=True)\n",
    "\n",
    "def train(data):\n",
    "    # Enumerate over the data\n",
    "    for batch in loader:\n",
    "        #use GPU\n",
    "        batch.to(device)\n",
    "        #reset gradients\n",
    "        optimizer.zero_grad()\n",
    "        # Passing the node features and the connection info\n",
    "\n",
    "        # error\n",
    "        # print(batch.x.dtype, batch.edge_index.dtype, batch.batch.dtype)\n",
    "        # print(batch.y.dtype)\n",
    "        \n",
    "        pred, embedding = model(batch.x.float(), batch.edge_index, batch.batch)\n",
    "        loss = loss_fn(pred, batch.y.float())\n",
    "        loss.backward()\n",
    "        # Update using the gradients\n",
    "        optimizer.step()\n",
    "        return loss,embedding\n",
    "    \n",
    "\n",
    "print('Starting Trainig...')\n",
    "losses = []\n",
    "\n",
    "for epoch in range(2000):\n",
    "    loss, h = train(data)\n",
    "    losses.append(loss)\n",
    "    if epoch % 100 == 0:\n",
    "        print(f\"Epoch {epoch} | Train Loss {loss}\")\n",
    "\n"
   ]
  },
  {
   "cell_type": "code",
   "execution_count": 11,
   "id": "09cec5a4",
   "metadata": {},
   "outputs": [
    {
     "data": {
      "image/png": "[encoded data removed]",
      "text/plain": [
       "<Figure size 640x480 with 1 Axes>"
      ]
     },
     "metadata": {},
     "output_type": "display_data"
    }
   ],
   "source": [
    "# Visualize learning (training loss)\n",
    "import matplotlib.pyplot as plt\n",
    "losses_float = [float(loss.cpu().detach().numpy()) for loss in losses] \n",
    "loss_indices = [i for i,l in enumerate(losses_float)] \n",
    "plt.plot(loss_indices, losses_float);"
   ]
  },
  {
   "cell_type": "markdown",
   "id": "7f4ec373",
   "metadata": {},
   "source": [
    "## Test Prediction"
   ]
  },
  {
   "cell_type": "code",
   "execution_count": 12,
   "id": "6d851e00",
   "metadata": {},
   "outputs": [
    {
     "data": {
      "text/html": [
       "<div>\n",
       "<style scoped>\n",
       "    .dataframe tbody tr th:only-of-type {\n",
       "        vertical-align: middle;\n",
       "    }\n",
       "\n",
       "    .dataframe tbody tr th {\n",
       "        vertical-align: top;\n",
       "    }\n",
       "\n",
       "    .dataframe thead th {\n",
       "        text-align: right;\n",
       "    }\n",
       "</style>\n",
       "<table border=\"1\" class=\"dataframe\">\n",
       "  <thead>\n",
       "    <tr style=\"text-align: right;\">\n",
       "      <th></th>\n",
       "      <th>y_real</th>\n",
       "      <th>y_pred</th>\n",
       "    </tr>\n",
       "  </thead>\n",
       "  <tbody>\n",
       "    <tr>\n",
       "      <th>0</th>\n",
       "      <td>0.940</td>\n",
       "      <td>0.227001</td>\n",
       "    </tr>\n",
       "    <tr>\n",
       "      <th>1</th>\n",
       "      <td>-6.237</td>\n",
       "      <td>-4.259462</td>\n",
       "    </tr>\n",
       "    <tr>\n",
       "      <th>2</th>\n",
       "      <td>-2.540</td>\n",
       "      <td>-2.804395</td>\n",
       "    </tr>\n",
       "    <tr>\n",
       "      <th>3</th>\n",
       "      <td>-5.680</td>\n",
       "      <td>-5.269295</td>\n",
       "    </tr>\n",
       "    <tr>\n",
       "      <th>4</th>\n",
       "      <td>-2.460</td>\n",
       "      <td>-1.881052</td>\n",
       "    </tr>\n",
       "    <tr>\n",
       "      <th>...</th>\n",
       "      <td>...</td>\n",
       "      <td>...</td>\n",
       "    </tr>\n",
       "    <tr>\n",
       "      <th>59</th>\n",
       "      <td>-1.890</td>\n",
       "      <td>-1.603100</td>\n",
       "    </tr>\n",
       "    <tr>\n",
       "      <th>60</th>\n",
       "      <td>-2.218</td>\n",
       "      <td>-2.076385</td>\n",
       "    </tr>\n",
       "    <tr>\n",
       "      <th>61</th>\n",
       "      <td>-3.583</td>\n",
       "      <td>-1.476663</td>\n",
       "    </tr>\n",
       "    <tr>\n",
       "      <th>62</th>\n",
       "      <td>-2.580</td>\n",
       "      <td>-2.282034</td>\n",
       "    </tr>\n",
       "    <tr>\n",
       "      <th>63</th>\n",
       "      <td>-4.360</td>\n",
       "      <td>-4.095469</td>\n",
       "    </tr>\n",
       "  </tbody>\n",
       "</table>\n",
       "<p>64 rows × 2 columns</p>\n",
       "</div>"
      ],
      "text/plain": [
       "    y_real    y_pred\n",
       "0    0.940  0.227001\n",
       "1   -6.237 -4.259462\n",
       "2   -2.540 -2.804395\n",
       "3   -5.680 -5.269295\n",
       "4   -2.460 -1.881052\n",
       "..     ...       ...\n",
       "59  -1.890 -1.603100\n",
       "60  -2.218 -2.076385\n",
       "61  -3.583 -1.476663\n",
       "62  -2.580 -2.282034\n",
       "63  -4.360 -4.095469\n",
       "\n",
       "[64 rows x 2 columns]"
      ]
     },
     "execution_count": 12,
     "metadata": {},
     "output_type": "execute_result"
    }
   ],
   "source": [
    "import pandas as pd \n",
    "\n",
    "# Analyze the results for one batch\n",
    "test_batch = next(iter(test_loader))\n",
    "with torch.no_grad():\n",
    "    test_batch.to(device)\n",
    "    pred, embed = model(test_batch.x.float(), test_batch.edge_index, test_batch.batch) \n",
    "    df = pd.DataFrame()\n",
    "    df[\"y_real\"] = test_batch.y.tolist()\n",
    "    df[\"y_pred\"] = pred.tolist()\n",
    "df[\"y_real\"] = df[\"y_real\"].apply(lambda row: row[0])\n",
    "df[\"y_pred\"] = df[\"y_pred\"].apply(lambda row: row[0])\n",
    "df"
   ]
  },
  {
   "cell_type": "code",
   "execution_count": 13,
   "id": "a62c6ffa",
   "metadata": {},
   "outputs": [
    {
     "data": {
      "image/png": "[encoded data removed]",
      "text/plain": [
       "<Figure size 640x480 with 1 Axes>"
      ]
     },
     "metadata": {},
     "output_type": "display_data"
    }
   ],
   "source": [
    "plt.scatter(df[\"y_real\"], df[\"y_pred\"]);"
   ]
  },
  {
   "cell_type": "code",
   "execution_count": null,
   "id": "15ea07d5",
   "metadata": {},
   "outputs": [],
   "source": []
  }
 ],
 "metadata": {
  "kernelspec": {
   "display_name": "Python 3 (ipykernel)",
   "language": "python",
   "name": "python3"
  },
  "language_info": {
   "codemirror_mode": {
    "name": "ipython",
    "version": 3
   },
   "file_extension": ".py",
   "mimetype": "text/x-python",
   "name": "python",
   "nbconvert_exporter": "python",
   "pygments_lexer": "ipython3",
   "version": "3.11.5"
  }
 },
 "nbformat": 4,
 "nbformat_minor": 5
}
